{
  "cells": [
    {
      "metadata": {},
      "cell_type": "markdown",
      "source": "# 2-2 Intro Python Practice\n## Lists\n<font size=\"5\" color=\"#00A0B2\"  face=\"verdana\"> <B>Student will be able to</B></font>  \n- Create Lists\n- Access items in a list\n- Add Items to the end of a list\n- Insert items into a list\n- Delete items from a list"
    },
    {
      "metadata": {},
      "cell_type": "markdown",
      "source": "## Create Lists"
    },
    {
      "metadata": {
        "trusted": true
      },
      "cell_type": "code",
      "source": "# [ ] create and populate list called days_of_week then print it\ndays_of_week = [\"Monday\",\"Tuesday\",\"Wednesday\",\"Thursday\",\"Friday\",\"Saturday\",\"Sunday\"]\n\n",
      "execution_count": 2,
      "outputs": []
    },
    {
      "metadata": {
        "trusted": true
      },
      "cell_type": "code",
      "source": "",
      "execution_count": null,
      "outputs": []
    },
    {
      "metadata": {
        "trusted": true
      },
      "cell_type": "code",
      "source": "# [ ] after days_of_week is run above, print the days in the list at odd indexes 1,3,5\nprint (\"Days Selected: \",days_of_week[1],\" - \",days_of_week[3],\" - \",days_of_week[5])\n",
      "execution_count": 3,
      "outputs": [
        {
          "output_type": "stream",
          "text": "Days Selected:  Tuesday  -  Thursday  -  Saturday\n",
          "name": "stdout"
        }
      ]
    },
    {
      "metadata": {},
      "cell_type": "markdown",
      "source": "## Phone letters\n![phone keys: number and letters](https://iajupyterprodblobs.blob.core.windows.net/imagecontainer/phone_letters.JPG)\nCreate a list, **`phone_letters`**, where the index 0 - 9 contains the letters for keys 0 - 9.  \n\n- 0 = ' ' (a space)\n- 1 = '' (empty)\n- 2 = 'ABC'\n- 3 = 'DEF'\n- etc...\n"
    },
    {
      "metadata": {
        "trusted": true
      },
      "cell_type": "code",
      "source": "# [ ] create and populate list called phone_letters then print it\nphone_letters = [\" \",\"\",\"ABC\",\"DEF\",\"GHI\",\"JKL\",\"MNO\",\"PQRS\",\"TUV\",\"WXYZ\"]\n\nprint (\"Phone Letters List: \",phone_letters)\n",
      "execution_count": 4,
      "outputs": [
        {
          "output_type": "stream",
          "text": "Phone Letters List:  [' ', '', 'ABC', 'DEF', 'GHI', 'JKL', 'MNO', 'PQRS', 'TUV', 'WXYZ']\n",
          "name": "stdout"
        }
      ]
    },
    {
      "metadata": {
        "collapsed": true
      },
      "cell_type": "markdown",
      "source": "## Access Lists\n### for the 2 cells below\n- Use days_of_week list created above\n- Run the cell above to make the list available"
    },
    {
      "metadata": {
        "trusted": true
      },
      "cell_type": "code",
      "source": "# [ ] create a variable: day, assign day to \"Tuesday\" using days_of_week[]\n# [ ] print day variable\n\nday = days_of_week[1]\nprint(\"Day: \",day)\n\n",
      "execution_count": 4,
      "outputs": [
        {
          "output_type": "stream",
          "text": "Day:  Tuesday\n",
          "name": "stdout"
        }
      ]
    },
    {
      "metadata": {
        "trusted": true
      },
      "cell_type": "code",
      "source": "# PART 2\n# [ ] assign day to days_of_week index = 5\n# [ ] print day\nday = days_of_week[5]\nprint(\"Day: \",day)\n\n",
      "execution_count": 3,
      "outputs": [
        {
          "output_type": "stream",
          "text": "Day:  Saturday\n",
          "name": "stdout"
        }
      ]
    },
    {
      "metadata": {},
      "cell_type": "markdown",
      "source": "## Append and Insert items into a list\n\n### Endsday, Midsday, Resterday\n#### for the exercises below\n- Use days_of_week list created above\n- Run the cell defining days_of_week above to make the list available"
    },
    {
      "metadata": {
        "trusted": true
      },
      "cell_type": "code",
      "source": "# [ ] Make up a new day! - append an 8th day of the week to days_of_week \n# [ ] print days_of_week\ndays_of_week.append(\"Newday\")\nprint(\"Days list: \",days_of_week)\n",
      "execution_count": 8,
      "outputs": [
        {
          "output_type": "stream",
          "text": "Days list:  ['Monday', 'Tuesday', 'Wednesday', 'Thursday', 'Friday', 'Saturday', 'Sunday', 'Newday', 'Newday']\n",
          "name": "stdout"
        }
      ]
    },
    {
      "metadata": {},
      "cell_type": "markdown",
      "source": "### Question  \n- What happens if you keep running the cell above?  \n- How can you return to the initial state with the regular 7 days in days_of_week? "
    },
    {
      "metadata": {
        "trusted": true
      },
      "cell_type": "code",
      "source": "# [ ] Make up another new day - insert a new day into the middle of days_of_week between Wed - Thurs\n# [ ] print days_of_week\ndays_of_week.insert(3,\"Newday\")\nprint(\"New List: \", days_of_week)\n\n",
      "execution_count": 9,
      "outputs": [
        {
          "output_type": "stream",
          "text": "New List:  ['Monday', 'Tuesday', 'Wednesday', 'Newday', 'Thursday', 'Friday', 'Saturday', 'Sunday', 'Newday', 'Newday']\n",
          "name": "stdout"
        }
      ]
    },
    {
      "metadata": {
        "trusted": true
      },
      "cell_type": "code",
      "source": "# [ ]  Extend the weekend - insert a day between Fri & Sat in the days_of_week list\n# [ ] print days_of_week\ndays_of_week.insert(6,\"Newday\")\nprint(\"New List: \", days_of_week)\n\n",
      "execution_count": 10,
      "outputs": [
        {
          "output_type": "stream",
          "text": "New List:  ['Monday', 'Tuesday', 'Wednesday', 'Newday', 'Thursday', 'Friday', 'Newday', 'Saturday', 'Sunday', 'Newday', 'Newday']\n",
          "name": "stdout"
        }
      ]
    },
    {
      "metadata": {},
      "cell_type": "markdown",
      "source": "## Delete from a list\n### `del` & `.pop()` some bad ideas\n#### exercises below assume days_of_week appended/inserted 3 extra days in previous exercises"
    },
    {
      "metadata": {
        "trusted": true
      },
      "cell_type": "code",
      "source": "# [ ] print days_of_week \n# [ ] modified week is too long - pop() the last index of days_of_week & print .pop() value\n# [ ] print days_of_week\nprint(\"Current List: \", days_of_week)\ndays_of_week.pop()\nprint(\"New List: \", days_of_week)\n\n",
      "execution_count": 11,
      "outputs": [
        {
          "output_type": "stream",
          "text": "Current List:  ['Monday', 'Tuesday', 'Wednesday', 'Newday', 'Thursday', 'Friday', 'Newday', 'Saturday', 'Sunday', 'Newday', 'Newday']\nNew List:  ['Monday', 'Tuesday', 'Wednesday', 'Newday', 'Thursday', 'Friday', 'Newday', 'Saturday', 'Sunday', 'Newday']\n",
          "name": "stdout"
        }
      ]
    },
    {
      "metadata": {
        "trusted": true
      },
      "cell_type": "code",
      "source": "# [ ] print days_of_week \n# [ ] delete (del) the new day added to the middle of the week \n# [ ] print days_of_week\nprint(\"Current List: \", days_of_week)\ndel days_of_week[3]\nprint(\"New List: \", days_of_week)\n\n",
      "execution_count": 12,
      "outputs": [
        {
          "output_type": "stream",
          "text": "Current List:  ['Monday', 'Tuesday', 'Wednesday', 'Newday', 'Thursday', 'Friday', 'Newday', 'Saturday', 'Sunday', 'Newday']\nNew List:  ['Monday', 'Tuesday', 'Wednesday', 'Thursday', 'Friday', 'Newday', 'Saturday', 'Sunday', 'Newday']\n",
          "name": "stdout"
        }
      ]
    },
    {
      "metadata": {
        "trusted": true
      },
      "cell_type": "code",
      "source": "# [ ] print days_of_week \n# [ ] programmers choice - pop() any day in days_of week & print .pop() value\n# [ ] print days_of_week\nchoice = input(\"Select Day of week(from 1 to 7): \")\n\nchoice = int(choice) - 1\n\nprint(\"Day selected: \",days_of_week.pop(choice))\n",
      "execution_count": 13,
      "outputs": [
        {
          "output_type": "stream",
          "name": "stdout",
          "text": "Select Day of week(from 1 to 7): 4\nDay selected:  Thursday\n"
        }
      ]
    },
    {
      "metadata": {},
      "cell_type": "markdown",
      "source": "## Program:  Letter to Number Function\n# TODO: insert video\n### for the exercise below\n- Use phone_letters list created above\n- Run the cell above to make the list available \n\n#### recall unit 1 using **`in`** to search for a string in a string\n```python\nif \"e\" in \"open\":\n    print(\"e found\")\nelse:\n   print(\"e not found\")\n```\n\n![phone keys: number and letters](https://iajupyterprodblobs.blob.core.windows.net/imagecontainer/phone_letters.JPG)\n\n### create funtion let_to_num()\n- let_to_num() takes input of a single letter, space or empty string stored in an argument variable: letter\n  - use `while key < 10:` to try numbers 0 - 9 as index for `phone_letters` (\"key\" = phone dial pad key)\n  - check if `letter` variable is in the index of `phone_letters[key]` \n```python\nkey = 0\nwhile key < 10:\n    if # Create Code: determine if letter is **`in`** any of the phone_letters[key] where key is the index 0 -9:\n        return key\n    else:\n        key = key + 1\nreturn \"Not Found\"\n```\n- return the number or \"Not Found\"\n- **call** let_to_num() to test the function so it prints the argument and return value with:\n  - space\n  - lowercase letter\n  - different letter, uppercase\n  - a number\n  \n**Bonus**: create a special case to check if empty string (`\"\"`) was submitted   \nthe problem is that an empty string will be found in all strings as  \n```python\nif \"\" in \"ABC\": \n```  \nis True, and is true for any phone_letters, but should `return 1`"
    },
    {
      "metadata": {
        "trusted": true
      },
      "cell_type": "code",
      "source": "# [ ] create let_to_num()\nprint(\"\\n\\n### Task 6 ###\\n\")\n\nphone_letters = [\" \",\"\",\"ABC\",\"DEF\",\"GHI\",\"JKL\",\"MNO\",\"PQRS\",\"TUV\",\"WXYZ\"]\n\ndef let_to_num(letter):\n    key = 0\n    while key < 10:\n        #print (\"Key Number: \",key)\n        #print (\"Key number: \",key,\" | String Letter:\",phone_letters[key])\n        \n        if letter in phone_letters[key]:\n            return key\n        \n        key += 1\n        #print (key)\n    return \"Not Found\"\n    \ninput_string = input(\"Enter a string: \")\n\nnumber_phone = \"\"\nfor letters in input_string:\n    #print (letters)\n    number_phone = let_to_num(letters.upper())\n    print (number_phone)\n\nif input_string == \"\":\n    print (1)\n    \n",
      "execution_count": 14,
      "outputs": [
        {
          "output_type": "stream",
          "text": "\n\n### Task 6 ###\n\nEnter a string: This is a testing script for finding characters in phone %% not special characters are allowed$$\n8\n4\n4\n7\n0\n4\n7\n0\n2\n0\n8\n3\n7\n8\n4\n6\n4\n0\n7\n2\n7\n4\n7\n8\n0\n3\n6\n7\n0\n3\n4\n6\n3\n4\n6\n4\n0\n2\n4\n2\n7\n2\n2\n8\n3\n7\n7\n0\n4\n6\n0\n7\n4\n6\n6\n3\n0\nNot Found\nNot Found\n0\n6\n6\n8\n0\n7\n7\n3\n2\n4\n2\n5\n0\n2\n4\n2\n7\n2\n2\n8\n3\n7\n7\n0\n2\n7\n3\n0\n2\n5\n5\n6\n9\n3\n3\nNot Found\nNot Found\n",
          "name": "stdout"
        }
      ]
    },
    {
      "metadata": {
        "trusted": false
      },
      "cell_type": "code",
      "source": "",
      "execution_count": null,
      "outputs": []
    },
    {
      "metadata": {},
      "cell_type": "markdown",
      "source": "## Challenge: reverse a string \n### using \n- while\n- .pop()\n- insert()  \n\n**`pop()`** the **first item** in the list and "
    },
    {
      "metadata": {
        "trusted": true
      },
      "cell_type": "code",
      "source": "# [ ] Challenge: write the code for \"reverse a string\"\nprint(\"\\n\\n### Challenge ###\\n\")\n\ninput_string = input(\"Enter a string: \")\nlist = []\n\nif input_string != \"\":\n    for letters in input_string:\n        list.insert(0,letters)\n    print (\"This is a list:\\n\",list)\n\nreverse_string = \"\"\nfor letters in list:\n    reverse_string += list.pop(0)\n    print (reverse_string)\n\nprint (\"Reverse String: \" + reverse_string)\n    \n ",
      "execution_count": 15,
      "outputs": [
        {
          "output_type": "stream",
          "text": "\n\n### Challenge ###\n\nEnter a string: This is a reverse string\nThis is a list:\n ['g', 'n', 'i', 'r', 't', 's', ' ', 'e', 's', 'r', 'e', 'v', 'e', 'r', ' ', 'a', ' ', 's', 'i', ' ', 's', 'i', 'h', 'T']\ng\ngn\ngni\ngnir\ngnirt\ngnirts\ngnirts \ngnirts e\ngnirts es\ngnirts esr\ngnirts esre\ngnirts esrev\nReverse String: gnirts esrev\n",
          "name": "stdout"
        }
      ]
    },
    {
      "metadata": {
        "trusted": false
      },
      "cell_type": "code",
      "source": "",
      "execution_count": null,
      "outputs": []
    },
    {
      "metadata": {},
      "cell_type": "markdown",
      "source": "[Terms of use](http://go.microsoft.com/fwlink/?LinkID=206977) &nbsp; [Privacy & cookies](https://go.microsoft.com/fwlink/?LinkId=521839) &nbsp; © 2017 Microsoft"
    }
  ],
  "metadata": {
    "anaconda-cloud": {},
    "kernelspec": {
      "name": "python3",
      "display_name": "Python 3",
      "language": "python"
    },
    "language_info": {
      "mimetype": "text/x-python",
      "nbconvert_exporter": "python",
      "name": "python",
      "pygments_lexer": "ipython3",
      "version": "3.5.4",
      "file_extension": ".py",
      "codemirror_mode": {
        "version": 3,
        "name": "ipython"
      }
    }
  },
  "nbformat": 4,
  "nbformat_minor": 1
}