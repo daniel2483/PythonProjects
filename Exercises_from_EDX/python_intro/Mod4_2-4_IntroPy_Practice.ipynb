{
  "cells": [
    {
      "metadata": {},
      "cell_type": "markdown",
      "source": "# 2-4 Intro Python Practice\n## Working with Files\n\n<font size=\"5\" color=\"#00A0B2\"  face=\"verdana\"> <B>Student will be able to</B></font>  \n \n- Import files into Jupyter notebooks  \n- Open and **`.read()`** local files in memory   \n- Use **`.read()`** to read a specific number of characters  \n- Use **`.readlines()`** to read data from file as a **list** of lines  \n- Use **`.readlines()`** to read data from file as a **list** of lines   \n- Use **`.readline()`** to read data from file a line at a time   \n- Use **`.strip()`** to remove new line characters  \n- Use `.write()` to write data to a new local file  \n- Use **`.seek()`** to set file read or write location  \n- Use file append mode  \n"
    },
    {
      "metadata": {
        "collapsed": true
      },
      "cell_type": "markdown",
      "source": "# &nbsp;\n<font size=\"6\" color=\"#B24C00\"  face=\"verdana\"> <B>Task 1</B></font>\n\n## Order the Rainbow\n#### Open the rainbow file then put in a list and print in alphabetical order\nDownload and open the file. \n- Download list of rainbow colors, as `rainbow.txt`, using `curl` \n  https://raw.githubusercontent.com/MicrosoftLearning/intropython/master/rainbow   \n- Open rainbow.txt in read mode using a variable: rainbow_file   \n "
    },
    {
      "metadata": {
        "trusted": true
      },
      "cell_type": "code",
      "source": "# [ ] import https://raw.githubusercontent.com/MicrosoftLearning/intropython/master/rainbow as rainbow.txt\n!curl https://raw.githubusercontent.com/MicrosoftLearning/intropython/master/rainbow -o rainbow.txt\n",
      "execution_count": 1,
      "outputs": [
        {
          "output_type": "stream",
          "text": "  % Total    % Received % Xferd  Average Speed   Time    Time     Time  Current\n                                 Dload  Upload   Total   Spent    Left  Speed\n100    43  100    43    0     0    136      0 --:--:-- --:--:-- --:--:--   138\n",
          "name": "stdout"
        }
      ]
    },
    {
      "metadata": {},
      "cell_type": "markdown",
      "source": "\n- Read rainbow_file as a list variable: rainbow_colors using `.readlines()`    \n"
    },
    {
      "metadata": {
        "trusted": true
      },
      "cell_type": "code",
      "source": "# [ ]  Open rainbow.txt in read mode & read as list with .readlines()\nrainbow_text = open('rainbow.txt','r')\nrainbow_lines = rainbow_text.readlines()\nprint(rainbow_lines)\n\n",
      "execution_count": 5,
      "outputs": [
        {
          "output_type": "stream",
          "text": "['red\\n', 'orange\\n', 'yellow\\n', 'green\\n', 'blue\\n', 'indigo\\n', 'violet\\n']\n",
          "name": "stdout"
        }
      ]
    },
    {
      "metadata": {},
      "cell_type": "markdown",
      "source": " \n1. Sort the rainbow_lines list alphabetically.  \n2. Print each line of rainbow_lines by iterating the sorted list.  \n3. Close rainbow_file.  "
    },
    {
      "metadata": {
        "trusted": true
      },
      "cell_type": "code",
      "source": "# [ ] sort rainbow_colors list, iterate the list to print each color\nrainbow_lines.sort()\nprint(rainbow_lines,\"\\n\")\n\nfor line in rainbow_lines:\n    print(line[:-1])\n\nrainbow_text.close()\n",
      "execution_count": 6,
      "outputs": [
        {
          "output_type": "stream",
          "text": "['blue\\n', 'green\\n', 'indigo\\n', 'orange\\n', 'red\\n', 'violet\\n', 'yellow\\n'] \n\nblue\ngreen\nindigo\norange\nred\nviolet\nyellow\n",
          "name": "stdout"
        }
      ]
    },
    {
      "metadata": {
        "collapsed": true
      },
      "cell_type": "markdown",
      "source": "# &nbsp;\n<font size=\"6\" color=\"#B24C00\"  face=\"verdana\"> <B>Task 2</B></font>\n\n## The Weather\nCreate a program that reads from a file to display city name and average temperature in Celsius.   \n\n&nbsp;  \n- use `!curl` to download https://raw.githubusercontent.com/MicrosoftLearning/intropython/master/world_temp_mean.csv as `mean_temp.txt`  \n  \n"
    },
    {
      "metadata": {
        "trusted": true
      },
      "cell_type": "code",
      "source": "# [ ] The Weather: import world_mean_team.csv as mean_temp.txt\n!curl https://raw.githubusercontent.com/MicrosoftLearning/intropython/master/world_temp_mean.csv -o mean_temp.txt\n",
      "execution_count": 1,
      "outputs": [
        {
          "output_type": "stream",
          "text": "  % Total    % Received % Xferd  Average Speed   Time    Time     Time  Current\n                                 Dload  Upload   Total   Spent    Left  Speed\n100   222  100   222    0     0   2146      0 --:--:-- --:--:-- --:--:--  2198\n",
          "name": "stdout"
        }
      ]
    },
    {
      "metadata": {},
      "cell_type": "markdown",
      "source": "1. Open the file in `'r'` mode.  \n2. Read the first line of text into a variable called: `  headings` and `print()`.  \n3. Convert `headings` to a list using **`.split(',')`** which splits on each comma, `print()` the list.\n"
    },
    {
      "metadata": {
        "trusted": true
      },
      "cell_type": "code",
      "source": "# [ ] The Weather: open file, read/print first line, convert line to list (splitting on comma)\nweather_file = open('mean_temp.txt','r')\nheadings = weather_file.readline()\nprint(headings,\"\\n\")\nheadings = headings.split(\",\")\nprint(headings)\n",
      "execution_count": 4,
      "outputs": [
        {
          "output_type": "stream",
          "text": "city,country,month ave: highest high,month ave: lowest low\n \n\n['city', 'country', 'month ave: highest high', 'month ave: lowest low\\n']\n",
          "name": "stdout"
        }
      ]
    },
    {
      "metadata": {},
      "cell_type": "markdown",
      "source": "#### use a while loop to read the remaining lines from the file  \n  1. Assign remaining lines to a **`city_temp`** variable.  \n  2. Convert the city_temp to a list using **`.split(',')`** for each **`.readline()`** in the loop.  \n  3. Print each city & the highest monthly average temperature.  \n  4. Close mean_temps.  \n\n>Tips & Hints:   \n- Use the print output of **`headings`** to determine the city_temp indexes to use.  \n- \"month ave: highest high\" for Beijing is 30.9 Celsius.  \n- Convert `city_temp` to lists with `.split(',')`.  "
    },
    {
      "metadata": {
        "trusted": true
      },
      "cell_type": "code",
      "source": "# [ ] The Weather: use while loop to print city and highest monthly average temp in celsius\nwhile headings:\n    city_temp = weather_file.readline()\n    #print(city_temp[:-1])\n    city_temp = city_temp.split(',')\n    try:\n        print(\"City: \",city_temp[0],\" Highest Monthly Average Temperature: \", city_temp[2])\n    except IndexError:\n        break\n",
      "execution_count": 5,
      "outputs": [
        {
          "output_type": "stream",
          "text": "City:  Beijing  Highest Monthly Average Temperature:  30.9\nCity:  Cairo  Highest Monthly Average Temperature:  34.7\nCity:  London  Highest Monthly Average Temperature:  23.5\nCity:  Nairobi  Highest Monthly Average Temperature:  26.3\nCity:  New York City  Highest Monthly Average Temperature:  28.9\nCity:  Sydney  Highest Monthly Average Temperature:  26.5\nCity:  Tokyo  Highest Monthly Average Temperature:  30.8\n",
          "name": "stdout"
        }
      ]
    },
    {
      "metadata": {
        "collapsed": true
      },
      "cell_type": "markdown",
      "source": "# &nbsp;  \n<font size=\"6\" color=\"#B24C00\"  face=\"verdana\"> <B>Task 3</B></font>  \n\n## Random pi  guessing\nCreate random appearing numbers by reading digits of pi \n*Note: only \"appears\" random*\n\n- Download https://raw.githubusercontent.com/MicrosoftLearning/intropython/master/digits_of_pi  as pi.txt"
    },
    {
      "metadata": {
        "trusted": true
      },
      "cell_type": "code",
      "source": "# [ ] use curl to download https://raw.githubusercontent.com/MicrosoftLearning/intropython/master/digits_of_pi as pi.txt\n!curl https://raw.githubusercontent.com/MicrosoftLearning/intropython/master/digits_of_pi -o pi.txt\n",
      "execution_count": 4,
      "outputs": [
        {
          "output_type": "stream",
          "text": "  % Total    % Received % Xferd  Average Speed   Time    Time     Time  Current\n                                 Dload  Upload   Total   Spent    Left  Speed\n100   303  100   303    0     0   1112      0 --:--:-- --:--:-- --:--:--  1122\n",
          "name": "stdout"
        }
      ]
    },
    {
      "metadata": {},
      "cell_type": "markdown",
      "source": "#### Set up the project files and intitial values  \n1. Open pi.txt in read mode, the file has a single line of text \"3.14....\".  \n2. Get user name as input and say \"hi\".  \n3. Use the length of `name` for variable called `seed`.  \n4. Use `.seek()` with the value of `seed` to set the initial pointer location reading the file.  \n5. Create a variable `digit` and assign it the value of reading one character from the file.  \n6. Get `guess` variable value from users `input`  - \"enter a single digit guess or \"q\" to quit\".  \n7. Initialize `correct` and `wrong` counter variables to **`0`**  (zero).  "
    },
    {
      "metadata": {
        "trusted": true
      },
      "cell_type": "code",
      "source": "# [ ] Set up the project files and initial values\npi = open('pi.txt','r')\nusername = input(\"Hi! \")\nseed = len(username)\npi.seek(seed - 1,0)\ncorrect = 0\nwrong = 0\n#print(pi.read())\nfor digit in pi.read():\n    #print(digit)\n    guess = input(\"Enter a single digit guess or 'q' to quit: \")\n    if guess == \"q\":\n        break\n    elif digit == guess:\n        correct += 1\n    else:\n        wrong += 1\n\n#print(\"Wrong answers: \",wrong)\n#print(\"Correct answers: \",correct)\n",
      "execution_count": 2,
      "outputs": [
        {
          "output_type": "stream",
          "name": "stdout",
          "text": "Hi! Daniel\nEnter a single digit guess or 'q' to quit: 5\nEnter a single digit guess or 'q' to quit: 9\nEnter a single digit guess or 'q' to quit: 2\nEnter a single digit guess or 'q' to quit: 3\nEnter a single digit guess or 'q' to quit: 5\nEnter a single digit guess or 'q' to quit: 6\nEnter a single digit guess or 'q' to quit: 7\nEnter a single digit guess or 'q' to quit: 8\nEnter a single digit guess or 'q' to quit: q\nWrong answers:  3\nCorrect answers:  5\n"
        }
      ]
    },
    {
      "metadata": {},
      "cell_type": "markdown",
      "source": "#### Create a while loop that tests that `guess` is a *digit* string\nthen in the loop:\n1. if `digit` ( read from pi file) is \"**.**\" read the next character for digit  \n2. else if `digit` is \"\\n\" increment `seed` and use `seed` to set the pointer uing .`seek()`  \n3. else see if `guess` is equal to `digit`   \n  a. if `guess` equals `digit`: print \"correct\" and increment the varible named `correct`  \n  b. if `guess` not equal `digit`: print \"incorrect\" and increment the variable named `wrong`  \n  \n**end the while loop** when user enters any non-digit(s) for `guess`, like \"q\".  \n- Print `correct` and `wrong` values within a message to the user.  \n- Close the pi file.  "
    },
    {
      "metadata": {
        "trusted": true
      },
      "cell_type": "code",
      "source": "pi.seek(seed - 1,0)\ncorrect = 0\nwrong = 0\n#print(pi.read())\nfor digit in pi.read():\n    #print(digit)\n    if digit == \".\":\n        next\n    elif digit == \"\\n\":\n        pi.seek(seed - 1,2)\n        \n    guess = input(\"Enter a single digit guess or 'q' to quit: \")\n    if guess == \"q\":\n        break\n    elif digit == guess:\n        print(\"correct!\")\n        correct += 1\n    else:\n        print(\"wrong!\")\n        wrong += 1\n\nprint(\"Wrong answers: \",wrong)\nprint(\"Correct answers: \",correct)\n\npi.close()\n",
      "execution_count": null,
      "outputs": []
    },
    {
      "metadata": {
        "trusted": true
      },
      "cell_type": "code",
      "source": "",
      "execution_count": null,
      "outputs": []
    },
    {
      "metadata": {
        "collapsed": true
      },
      "cell_type": "markdown",
      "source": "[Terms of use](http://go.microsoft.com/fwlink/?LinkID=206977) &nbsp; [Privacy & cookies](https://go.microsoft.com/fwlink/?LinkId=521839) &nbsp; © 2017 Microsoft"
    }
  ],
  "metadata": {
    "anaconda-cloud": {},
    "kernelspec": {
      "name": "python3",
      "display_name": "Python 3",
      "language": "python"
    },
    "language_info": {
      "mimetype": "text/x-python",
      "nbconvert_exporter": "python",
      "name": "python",
      "pygments_lexer": "ipython3",
      "version": "3.5.4",
      "file_extension": ".py",
      "codemirror_mode": {
        "version": 3,
        "name": "ipython"
      }
    }
  },
  "nbformat": 4,
  "nbformat_minor": 1
}