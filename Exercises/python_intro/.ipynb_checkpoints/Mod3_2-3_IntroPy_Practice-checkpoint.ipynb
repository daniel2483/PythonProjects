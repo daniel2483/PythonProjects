{
  "cells": [
    {
      "metadata": {},
      "cell_type": "markdown",
      "source": "# 2-3 Intro Python Practice  \n## power iteration of sequences\n\n<font size=\"5\" color=\"#00A0B2\"  face=\"verdana\"> <B>Student will be able to</B></font>  \n- Iterate through Lists using **`for`** and **`in`**\n- Use **`for` *`count`* `in range()`** in looping operations  \n- Use list methods **`.extend()`, `+, .reverse(), .sort()`**  \n- convert between lists and strings using  **`.split()`** and **`.join()`**\n- cast strings to lists **/** direct multiple print outputs to a single line.  ** `print(\"hi\", end='')`**"
    },
    {
      "metadata": {},
      "cell_type": "markdown",
      "source": "# &nbsp;\n<font size=\"6\" color=\"#B24C00\"  face=\"verdana\"> <B>Task 1</B></font>\n##  list iteration: `for in`\n### `for item in list:`"
    },
    {
      "metadata": {
        "trusted": true
      },
      "cell_type": "code",
      "source": "# [ ] print out the \"physical states of matter\" (matter_states) in 4 sentences using list iteration\n# each sentence should be of the format: \"Solid - is state of matter #1\" \nmatter_states = ['solid', 'liquid', 'gas', 'plasma']\ncount = 1\nfor matter in matter_states:\n    print(matter.title(),\" - is state of matter #\",count)\n    count += 1\n\n\n",
      "execution_count": null,
      "outputs": []
    },
    {
      "metadata": {
        "trusted": false
      },
      "cell_type": "code",
      "source": "# [ ] iterate the list (birds) to see any bird names start with \"c\" and remove that item from the list\n# print the birds list before and after removals\nbirds = [\"turkey\", \"hawk\", \"chicken\", \"dove\", \"crow\"]\nprint (\"\\n\\nList of birds: \",birds)\nfor bird in birds:\n    if bird[0].lower() == \"c\":\n        birds.remove(bird)\nprint (\"New list of birds: \",birds)\n",
      "execution_count": null,
      "outputs": []
    },
    {
      "metadata": {
        "trusted": false
      },
      "cell_type": "code",
      "source": "# the team makes 1pt, 2pt or 3pt baskets\n# [ ] print the occurace of each type of basket(1pt, 2pt, 3pt) & total points using the list baskets\nbaskets = [2,2,2,1,2,1,3,3,1,2,2,2,2,1,3]\ntotal = 0\nfor points in baskets:\n    print(points,\"pt\")\n    total += int(points)\nprint(\"Total:\",total)\n",
      "execution_count": null,
      "outputs": []
    },
    {
      "metadata": {},
      "cell_type": "markdown",
      "source": "# &nbsp;\n<font size=\"6\" color=\"#B24C00\"  face=\"verdana\"> <B>Task 2</B></font>\n##  iteration with `range(start)` & `range(start,stop)`\n"
    },
    {
      "metadata": {
        "trusted": false
      },
      "cell_type": "code",
      "source": "# [ ] using range() print \"hello\" 4 times\nfor count in range(0,4):\n    print(\"Hello\")\n\n",
      "execution_count": null,
      "outputs": []
    },
    {
      "metadata": {
        "trusted": false
      },
      "cell_type": "code",
      "source": "# [ ] find spell_list length\n# [ ] use range() to iterate each half of spell_list  \n# [ ] label & print the first and second halves\nspell_list = [\"Tuesday\", \"Wednesday\", \"February\", \"November\", \"Annual\", \"Calendar\", \"Solstice\"]\nlength = len(spell_list)\nhalf = int(length/2)\nfirst_half = \"\"\nsecond_half = \"\"\n\nfor list in range(0,half):\n    first_half = first_half + \" \" + spell_list[list]\n\nfor list in range(half,length):\n    second_half = second_half + \" \" + spell_list[list]\n\nprint(\"First Half: \" + first_half)\nprint(\"Second Half: \" + second_half)\n",
      "execution_count": null,
      "outputs": []
    },
    {
      "metadata": {
        "trusted": false
      },
      "cell_type": "code",
      "source": "# [ ] build a list of numbers from 20 to 29: twenties \n# append each number to twenties list using range(start,stop) iteration\n# [ ] print twenties\ntwenties = []\nfor count in range(20,30):\n    twenties.append(count)\nprint(\"List of numbers: \",twenties)\n\n",
      "execution_count": null,
      "outputs": []
    },
    {
      "metadata": {
        "trusted": false
      },
      "cell_type": "code",
      "source": "# [ ] iterate through the numbers populated in the list twenties and add each number to a variable: total\n# [ ] print total\ntotal = 0\nfor number in twenties:\n    total += number\nprint(\"Total: \",total)\n\n",
      "execution_count": null,
      "outputs": []
    },
    {
      "metadata": {
        "trusted": false
      },
      "cell_type": "code",
      "source": "# check your answer above using range(start,stop)\n# [ ] iterate each number from 20 to 29 using range()\n# [ ] add each number to a variable (total) to calculate the sum\n# should match earlier task \ntotal = 0\nfor count in range(20,30):\n    print(\"Numbers: \",count)\n    total += count\nprint(\"Total: \",total)\n",
      "execution_count": null,
      "outputs": []
    },
    {
      "metadata": {},
      "cell_type": "markdown",
      "source": "# &nbsp;\n<font size=\"6\" color=\"#B24C00\"  face=\"verdana\"> <B>Task 3</B></font>\n##  iteration with `range(start:stop:skip)`\n"
    },
    {
      "metadata": {
        "trusted": false
      },
      "cell_type": "code",
      "source": "# [ ] create a list of odd numbers (odd_nums) from 1 to 25 using range(start,stop,skip)\n# [ ] print odd_nums\n# hint: odd numbers are 2 digits apart\nodd_numbers = []\nfor numbers in range(1,26,2):\n    #print(\"Odd number: \", numbers)\n    odd_numbers.append(numbers)\nprint(\"Odd Numbers list: \",odd_numbers)\n",
      "execution_count": null,
      "outputs": []
    },
    {
      "metadata": {
        "trusted": false
      },
      "cell_type": "code",
      "source": "# [ ] create a Decending list of odd numbers (odd_nums) from 25 to 1 using range(start,stop,skip)\n# [ ] print odd_nums,  output should resemble [25, 23, ...]\nodd_numbers_reverse = []\nfor numbers in range(25,0,-2):\n    #print(\"Odd number: \", numbers)\n    odd_numbers_reverse.append(numbers)\nprint(\"Odd Numbers Reverse list: \",odd_numbers_reverse)\n\n",
      "execution_count": null,
      "outputs": []
    },
    {
      "metadata": {
        "trusted": false
      },
      "cell_type": "code",
      "source": "# the list, elements, contains the names of the first 20 elements in atomic number order\n# [ ] print the even number elements \"2 - Helium, 4 - Beryllium,..\" in the list with the atomic number\nelements = ['Hydrogen', 'Helium', 'Lithium', 'Beryllium', 'Boron', 'Carbon', 'Nitrogen', 'Oxygen', 'Fluorine', \\\n 'Neon', 'Sodium', 'Magnesium', 'Aluminum', 'Silicon', 'Phosphorus', 'Sulfur', 'Chlorine', 'Argon', \\\n 'Potassium', 'Calcium']\nfor number in range(1,20,2):\n    print((number+1),\"-\", elements[number])\n\n",
      "execution_count": null,
      "outputs": []
    },
    {
      "metadata": {
        "trusted": false
      },
      "cell_type": "code",
      "source": "# [ ] the list, elements_40, contains the names of the first 40 elements in atomic number order\n# [ ] print the odd number elements \"1 - Hydrogen, 3 - Lithium,..\" in the list with the atomic number elements_40\nelements_40 = ['Hydrogen', \\\n 'Helium', 'Lithium', 'Beryllium', 'Boron', 'Carbon', 'Nitrogen', 'Oxygen', 'Fluorine', \\\n 'Neon', 'Sodium', 'Magnesium', 'Aluminum', 'Silicon', 'Phosphorus', 'Sulfur', 'Chlorine', \\\n 'Argon', 'Potassium', 'Calcium', 'Scandium', 'Titanium', 'Vanadium', 'Chromium', 'Manganese', \\\n 'Iron', 'Cobalt', 'Nickel', 'Copper', 'Zinc', 'Gallium', 'Germanium', 'Arsenic', 'Selenium', \\\n 'Bromine', 'Krypton', 'Rubidium', 'Strontium', 'Yttrium', 'Zirconium']\nfor number in range(0,40,2):\n    print((number+1),\"-\", elements_40[number])\n",
      "execution_count": null,
      "outputs": []
    },
    {
      "metadata": {
        "trusted": false
      },
      "cell_type": "code",
      "source": "",
      "execution_count": null,
      "outputs": []
    },
    {
      "metadata": {},
      "cell_type": "markdown",
      "source": "# &nbsp;\n<font size=\"6\" color=\"#B24C00\"  face=\"verdana\"> <B>Task 4</B></font>\n## combine lists with `+` and `.extend()`"
    },
    {
      "metadata": {
        "trusted": false
      },
      "cell_type": "code",
      "source": "# [ ] print the combined lists (numbers_1 & numbers_2) using \"+\" operator\nnumbers_1 = [20, 21, 22, 23, 24, 25, 26, 27, 28, 29]\n\n# pythonic casting of a range into a list\nnumbers_2 = list(range(30,50,2))\n\nprint(\"numbers_1:\",numbers_1)\nprint(\"numbers_2\",numbers_2)\nprint(\"Join List:\",all_numbers)\n",
      "execution_count": null,
      "outputs": []
    },
    {
      "metadata": {
        "trusted": false
      },
      "cell_type": "code",
      "source": "# [ ] print the combined element lists (first_row & second_row) using \".extend()\" method\nfirst_row = ['Hydrogen', 'Helium']\nsecond_row = ['Lithium', 'Beryllium', 'Boron', 'Carbon', 'Nitrogen', 'Oxygen', 'Fluorine', 'Neon']\ncombined = []\nprint(\"1st Row:\", first_row)\nprint(\"2nd Row:\", second_row)\ncombined.extend(first_row)\ncombined.extend(second_row)\nprint(\"Combined List:\",combined)\n\n",
      "execution_count": null,
      "outputs": []
    },
    {
      "metadata": {},
      "cell_type": "markdown",
      "source": "## Project: Combine 3 element rows\nChoose to use **\"+\" or \".extend()\" **to build output similar to   \n\n```\nThe 1st three rows of the Period Table of Elements contain:\n['Hydrogen', 'Helium', 'Lithium', 'Beryllium', 'Boron', 'Carbon', 'Nitrogen', 'Oxygen', 'Fluorine', 'Neon', 'Sodium', 'Magnesium', 'Aluminum', 'Silicon', 'Phosphorus', 'Sulfur', 'Chlorine', 'Argon']\n\nThe row breakdown is\nRow 1: Hydrogen, Helium\nRow 2: Lithium, Beryllium, Boron, Carbon, Nitrogen, Oxygen, Fluorine, Neon\nRow 3: Sodium, Magnesium, Aluminum, Silicon, Phosphorus, Sulfur, Chlorine, Argon\n```"
    },
    {
      "metadata": {
        "trusted": false
      },
      "cell_type": "code",
      "source": "# [ ] create the program: combined 3 element rows \n\nelem_1 = ['Hydrogen', 'Helium'] \nelem_2 = ['Lithium', 'Beryllium', 'Boron', 'Carbon', 'Nitrogen', 'Oxygen', 'Fluorine', 'Neon']\nelem_3 = ['Sodium', 'Magnesium', 'Aluminum', 'Silicon', 'Phosphorus', 'Sulfur', 'Chlorine', 'Argon']\nelements = []\nprint(\"Elements 1: \",elem_1)\nprint(\"Elements 2: \",elem_2)\nprint(\"Elements 3: \",elem_3)\nfor count in range(1,4):\n    if count == 1:\n        elements.extend(elem_1)\n    if count == 2:\n        elements.extend(elem_2)\n    if count == 3:\n        elements.extend(elem_3)\nprint(\"Elements extends: \",elements)\n",
      "execution_count": null,
      "outputs": []
    },
    {
      "metadata": {
        "trusted": false
      },
      "cell_type": "code",
      "source": "# [ ] .extend() jack_jill with \"next_line\" string - print the result\njack_jill = ['Jack', 'and', 'Jill', 'went', 'up', 'the', 'hill']\nnext_line = ['To', 'fetch', 'a', 'pail', 'of', 'water']\njack_jill.extend(next_line)\nprint(jack_jill)\n",
      "execution_count": null,
      "outputs": []
    },
    {
      "metadata": {},
      "cell_type": "markdown",
      "source": "# &nbsp;\n<font size=\"6\" color=\"#B24C00\"  face=\"verdana\"> <B>Task 5</B></font>\n## .reverse() : reverse a list in place"
    },
    {
      "metadata": {
        "trusted": false
      },
      "cell_type": "code",
      "source": "# [ ] use .reverse() to print elements starting with \"Calcium\", \"Chlorine\",... in reverse order\nelements = ['Hydrogen', 'Helium', 'Lithium', 'Beryllium', 'Boron', 'Carbon', 'Nitrogen', 'Oxygen', 'Fluorine', \\\n 'Neon', 'Sodium', 'Magnesium', 'Aluminum', 'Silicon', 'Phosphorus', 'Sulfur', 'Chlorine', 'Argon', \\\n 'Potassium', 'Calcium']\nelements.reverse()\nprint(\"Elements in reverse order: \",elements)\n\n\n",
      "execution_count": null,
      "outputs": []
    },
    {
      "metadata": {
        "trusted": false
      },
      "cell_type": "code",
      "source": "# [ ] reverse order of the list... Then print only words that are 8 characters or longer from the now reversed order\nspell_list = [\"Tuesday\", \"Wednesday\", \"February\", \"November\", \"Annual\", \"Calendar\", \"Solstice\"]\nspell_list.reverse()\nprint(\"Words in reverse order: \",spell_list)\nfor words in spell_list:\n    if len(words) >= 8:\n        print(\"Word more than, or equal than 8 characters: \",words)\n\n",
      "execution_count": null,
      "outputs": []
    },
    {
      "metadata": {},
      "cell_type": "markdown",
      "source": "# &nbsp;\n<font size=\"6\" color=\"#B24C00\"  face=\"verdana\"> <B>Task 6</B></font>\n## .sort() and sorted()"
    },
    {
      "metadata": {
        "trusted": false
      },
      "cell_type": "code",
      "source": "# [ ] sort the list element, so names are in alphabetical order and print elements\nelements = ['Hydrogen', 'Helium', 'Lithium', 'Beryllium', 'Boron', 'Carbon', 'Nitrogen', 'Oxygen', 'Fluorine', \\\n 'Neon', 'Sodium', 'Magnesium', 'Aluminum', 'Silicon', 'Phosphorus', 'Sulfur', 'Chlorine', 'Argon', \\\n 'Potassium', 'Calcium']\nelements.sort()\nprint(\"Sorted Elements: \",elements)\n",
      "execution_count": null,
      "outputs": []
    },
    {
      "metadata": {
        "trusted": false
      },
      "cell_type": "code",
      "source": "# [ ] print the list, numbers, sorted and then below print the original numbers list \nnumbers = [2,2,2,1,2,1,3,3,1,2,2,2,2,1,3]\nprint(\"Original List: \",numbers)\nsorted_numbers=sorted(numbers)\nprint(\"Sorted numbers: \",sorted_numbers)\n\nprint(\"Original List: \",numbers)\n",
      "execution_count": null,
      "outputs": []
    },
    {
      "metadata": {},
      "cell_type": "markdown",
      "source": "# &nbsp;\n<font size=\"6\" color=\"#B24C00\"  face=\"verdana\"> <B>Task 7</B></font>\n## Converting a string to a list with `.split()`"
    },
    {
      "metadata": {
        "trusted": false
      },
      "cell_type": "code",
      "source": "# [ ] split the string, daily_fact, into a list of word strings: fact_words\n# [ ] print each string in fact_words in upper case on its own line\ndaily_fact = \"Did you know that there are 1.4 billion students in the world?\"\nprint(\"Original phrase: \",daily_fact)\nfact_words = daily_fact.split()\nfor words in fact_words:\n    print(words.upper())\n",
      "execution_count": null,
      "outputs": []
    },
    {
      "metadata": {
        "trusted": false
      },
      "cell_type": "code",
      "source": "# [ ] convert the string, code_tip, into a list made from splitting on the letter \"o\"\ncode_tip =\"Read code aloud or explain the code step by step to a peer\"\nprint(\"Original code tip: \",code_tip)\nlist_code_tip = code_tip.split('o')\nprint(\"List: \",list_code_tip)\n\n\n",
      "execution_count": null,
      "outputs": []
    },
    {
      "metadata": {
        "trusted": false
      },
      "cell_type": "code",
      "source": "# [ ] split poem on \"b\" to create a list: poem_words\n# [ ] print poem_words by iterating the list\npoem = \"The bright brain, has bran!\"\nprint(\"Original poem: \",poem)\nlist_poem= poem.split('b')\nprint(\"List: \",list_poem)\nfor list in list_poem:\n    print(list)\n\n",
      "execution_count": null,
      "outputs": []
    },
    {
      "metadata": {},
      "cell_type": "markdown",
      "source": "# &nbsp;\n<font size=\"6\" color=\"#B24C00\"  face=\"verdana\"> <B>Task 8</B></font>\n## `.join()`\n### build a string from a list"
    },
    {
      "metadata": {
        "trusted": false
      },
      "cell_type": "code",
      "source": "# [ ] print a comma separated string output from the list of Halogen elements using \".join()\"\nhalogens = ['Chlorine', 'Florine', 'Bromine', 'Iodine']\nprint(\"Comma Separated: \",\",\".join(halogens))\n",
      "execution_count": null,
      "outputs": []
    },
    {
      "metadata": {
        "trusted": false
      },
      "cell_type": "code",
      "source": "# [ ] split the sentence, code_tip, into a words list\n# [ ] print the joined words in the list with no spaces in-between\n# [ ] Bonus: capitalize each word in the list before .join()\ncode_tip =\"Read code aloud or explain the code step by step to a peer\"\nlist_code_tip = code_tip.split()\nprint(\"No spaces between: \",\"\".join(list_code_tip))\nnew_list_code_tip=[]\nfor words in list_code_tip:\n    new_list_code_tip.append(words.title())\nprint(\"No spaces between: \",\"\".join(new_list_code_tip))\n",
      "execution_count": null,
      "outputs": []
    },
    {
      "metadata": {},
      "cell_type": "markdown",
      "source": "# &nbsp;\n<font size=\"6\" color=\"#B24C00\"  face=\"verdana\"> <B>Task 9</B></font>  \n## `list(string)` & `print(\"hello\",end=' ')`\n\n- **Cast a string to a list** \n- **print to the same line**   "
    },
    {
      "metadata": {
        "trusted": true
      },
      "cell_type": "code",
      "source": "# [ ] cast the long_word into individual letters list \n# [ ] print each letter on a line\nlong_word = 'decelerating'\nletter_list = list(long_word)\nfor letter in letter_list:\n    print(letter)\n",
      "execution_count": 1,
      "outputs": [
        {
          "output_type": "stream",
          "text": "d\ne\nc\ne\nl\ne\nr\na\nt\ni\nn\ng\n",
          "name": "stdout"
        }
      ]
    },
    {
      "metadata": {
        "trusted": false
      },
      "cell_type": "code",
      "source": "# [ ] use use end= in print to output each string in questions with a \"?\" and on new lines\nquestions = [\"What's the closest planet to the Sun\", \"How deep do Dolphins swim\", \"What time is it\"]\nfor quest in questions:\n    print(quest,end=\"?\\n\")\n\n",
      "execution_count": null,
      "outputs": []
    },
    {
      "metadata": {
        "trusted": true
      },
      "cell_type": "code",
      "source": "# [ ] print each item in foot bones \n#    - capitalized, both words if two word name\n#    - separated by a comma and space\n#    - and keeping on a single print line\nfoot_bones = [\"calcaneus\", \"talus\", \"cuboid\", \"navicular\", \"lateral cuneiform\", \n            \"intermediate cuneiform\", \"medial cuneiform\"]\nfor bone in foot_bones:\n    print(bone.title())\n\ncomma_separated = \",\".join(foot_bones)\nprint(\"Comma Separated: \",comma_separated,end=\" | \")\n\nspace_separated = \" \".join(foot_bones)\nprint(\"Space Separated: \",space_separated)\n",
      "execution_count": null,
      "outputs": []
    },
    {
      "metadata": {
        "trusted": true
      },
      "cell_type": "code",
      "source": "# Final Task Module 3\n\ndef word_mixer(word_list):\n    word = \"\"\n    word_list_sorted = sorted(word_list)\n    new_words = []\n\n    #print(words_list)\n    # initializing the length\n    words_list_len = len(word_list_sorted)\n\n    #print(word_list_sorted)\n    while words_list_len > 5:\n\n        word = word_list_sorted.pop(-5)\n        new_words.append(word)\n\n        word = word_list_sorted.pop(0)\n        new_words.append(word)\n        \n        word = word_list_sorted.pop()\n        new_words.append(word)\n\n\n        words_list_len = len(word_list_sorted)\n        \n    \n    return new_words\n\n\nprint(\"Mixer words!\")\npoem = input(\"Please insert a poem: \")\n\nwords_list = poem.split()\nwords_list_len = len(words_list)\n\nfor count in range(0,words_list_len):\n    \n    if len(words_list[count]) <= 3:\n        words_list[count] = words_list[count].lower()\n    else:\n        words_list[count] = words_list[count].upper()\n\n\n\nword_already_mixed = word_mixer(words_list)\n\nmixed_sentence = \" \".join(word_already_mixed)\nprint(\"New values:\\n\",mixed_sentence)\n\n\n",
      "execution_count": null,
      "outputs": []
    },
    {
      "metadata": {},
      "cell_type": "markdown",
      "source": "[Terms of use](http://go.microsoft.com/fwlink/?LinkID=206977) &nbsp; [Privacy & cookies](https://go.microsoft.com/fwlink/?LinkId=521839) &nbsp; © 2017 Microsoft"
    }
  ],
  "metadata": {
    "anaconda-cloud": {},
    "kernelspec": {
      "name": "python3",
      "display_name": "Python 3",
      "language": "python"
    },
    "language_info": {
      "mimetype": "text/x-python",
      "nbconvert_exporter": "python",
      "name": "python",
      "pygments_lexer": "ipython3",
      "version": "3.5.4",
      "file_extension": ".py",
      "codemirror_mode": {
        "version": 3,
        "name": "ipython"
      }
    }
  },
  "nbformat": 4,
  "nbformat_minor": 1
}